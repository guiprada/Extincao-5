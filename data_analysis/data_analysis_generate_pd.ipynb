{
 "cells": [
  {
   "cell_type": "code",
   "execution_count": 31,
   "id": "98138054",
   "metadata": {},
   "outputs": [],
   "source": [
    "import os\n",
    "import pandas as pd\n",
    "import matplotlib.pyplot as plt\n",
    "import seaborn as sns\n",
    "import numpy as np\n",
    "import data_analysis_tools as tools\n",
    "import re\n",
    "import random"
   ]
  },
  {
   "attachments": {},
   "cell_type": "markdown",
   "id": "c97552cb",
   "metadata": {},
   "source": [
    "## BASELINE"
   ]
  },
  {
   "cell_type": "code",
   "execution_count": 32,
   "id": "7fee72c2",
   "metadata": {},
   "outputs": [],
   "source": [
    "OVERRIDE_OLD_FIXED = False\n",
    "TEST = False"
   ]
  },
  {
   "cell_type": "code",
   "execution_count": 33,
   "id": "2e65f5fe",
   "metadata": {},
   "outputs": [],
   "source": [
    "base_path = f\"{os.getcwd()}/../logs_good/\"\n",
    "baseline_paths = [\n",
    "\tf\"{base_path}logs_publicos/battery_1/\",\n",
    "\n",
    "\t# f\"{base_path}tests/\",\n",
    "\n",
    "\t# f\"{base_path}baseline/4_ghosts_4_target_spread/\",\n",
    "\t# f\"{base_path}baseline/2_ghosts_0_target_spread/\",\n",
    "\t# f\"{base_path}baseline/2_ghosts_fixed_target_2_-5/\",\n",
    "\t# f\"{base_path}baseline/battery_1_2_ghosts_fixed_target_4_-5/\",\n",
    "]\n",
    "\n",
    "neuroevolution_paths = [\n",
    "\tf\"{base_path}logs_publicos/battery_2/B1/\",\n",
    "\tf\"{base_path}logs_publicos/battery_2/B1-path-grading-hack/\",\n",
    "\tf\"{base_path}logs_publicos/battery_2/B1-path-grading-simple/\",\n",
    "\tf\"{base_path}logs_publicos/battery_2/B2/\",\n",
    "\tf\"{base_path}logs_publicos/battery_2/B3/\",\n",
    "\tf\"{base_path}logs_publicos/battery_2/NB4/\",\n",
    "\tf\"{base_path}logs_publicos/battery_2/NB4-path-grading/\",\n",
    "\n",
    "\t# f\"{base_path}neuroevolution/battery_3_0/\",\n",
    "]\n",
    "\n",
    "neat_paths = [\n",
    "\t# f\"{base_path}NEAT/battery_3_0/\",\n",
    "\t# f\"{base_path}NEAT/saved_logs/no_speciation/\",\n",
    "\n",
    "\t# f\"{base_path}NEAT/history_size_100/B1/\",\n",
    "\t# f\"{base_path}NEAT/history_size_100/B1-path-grading-hack/\",\n",
    "\t# f\"{base_path}NEAT/history_size_100/B1-path-grading-simple/\",\n",
    "\t# f\"{base_path}NEAT/history_size_100/B2/\",\n",
    "\t# f\"{base_path}NEAT/history_size_100/B3/\",\n",
    "\t# f\"{base_path}NEAT/history_size_100/NB4/\",\n",
    "\t# f\"{base_path}NEAT/history_size_100/NB4-path-grading/\",\n",
    "\n",
    "\t# f\"{base_path}NEAT/saved_logs/speciated/B1/\",\n",
    "\t# f\"{base_path}NEAT/saved_logs/speciated/B1-path-grading-hack/\",\n",
    "\t# f\"{base_path}NEAT/saved_logs/speciated/B1-path-grading-simple/\",\n",
    "\t# f\"{base_path}NEAT/saved_logs/speciated/B2/\",\n",
    "\t# f\"{base_path}NEAT/saved_logs/speciated/B3/\",\n",
    "\t# f\"{base_path}NEAT/saved_logs/speciated/NB4/\",\n",
    "\t# f\"{base_path}NEAT/saved_logs/speciated/NB4-path-grading/\",\n",
    "]\n",
    "selected_paths = baseline_paths + neuroevolution_paths + neat_paths"
   ]
  },
  {
   "cell_type": "code",
   "execution_count": 34,
   "id": "068127c6",
   "metadata": {},
   "outputs": [],
   "source": [
    "def prepare_data_fixed(path, selected_runs):\n",
    "\tfor selected_run in selected_runs:\n",
    "\t\tthis_path = f\"{path}{selected_run}.data\"\n",
    "\t\tif not os.path.exists(this_path + \"_fixed\") or OVERRIDE_OLD_FIXED:\n",
    "\t\t\tif not os.path.exists(this_path) or OVERRIDE_OLD_FIXED:\n",
    "\t\t\t\t#join data if necessary\n",
    "\t\t\t\ttools.join_data(this_path)\n",
    "\t\t\ttools.quote_gene(this_path)\n",
    "\n",
    "def get_availiable_runs(filenames_list):\n",
    "\tselected_runs_set = set()\n",
    "\tfor filename in filenames_list:\n",
    "\t\tfound = re.findall(\"[0-9]+\", filename)\n",
    "\t\tif len(found) > 0:\n",
    "\t\t\tselected_runs_set.add(found[0])\n",
    "\treturn list(selected_runs_set)\n",
    "\n",
    "def analyse_all_in_path(path):\n",
    "\tin_path_df_dict = dict()\n",
    "\tselected_runs = get_availiable_runs(os.listdir(path))\n",
    "\tprepare_data_fixed(path, selected_runs)\n",
    "\terrors = list()\n",
    "\n",
    "\tfor run in selected_runs:\n",
    "\t\tthis_baseline_mode = None\n",
    "\t\tthis_ann_layers = None\n",
    "\t\tprint(path, run)\n",
    "\t\trun_dict = dict()\n",
    "\t\trun_dict[\"run_id\"] = run\n",
    "\t\trun_dict[\"path\"] = path\n",
    "\t\twith open(f\"{path}{run}.conf\", 'r') as f:\n",
    "\t\t\tfor line in f.readlines():\n",
    "\t\t\t\tif tools.ANN_MODE_STRING in line:\n",
    "\t\t\t\t\tthis_mode = line.replace(tools.ANN_MODE_STRING, \"\")\n",
    "\t\t\t\t\trun_dict[\"mode\"] = this_mode\n",
    "\t\t\t\telif tools.ANN_LAYERS_STRING in line:\n",
    "\t\t\t\t\tthis_layers = line.replace(tools.ANN_LAYERS_STRING, \"\")\n",
    "\t\t\t\t\trun_dict[\"layers\"] = this_layers\n",
    "\n",
    "\t\trun_dict[\"df\"], load_errors = tools.load_dataframe(path, run)\n",
    "\t\tin_path_df_dict[run] = run_dict\n",
    "\t\terrors.extend(load_errors)\n",
    "\t\tif TEST == True:\n",
    "\t\t\treturn in_path_df_dict, errors\n",
    "\n",
    "\treturn in_path_df_dict, errors\n"
   ]
  },
  {
   "attachments": {},
   "cell_type": "markdown",
   "id": "7c9ee925",
   "metadata": {},
   "source": [
    "## Do it"
   ]
  },
  {
   "cell_type": "code",
   "execution_count": 35,
   "id": "8b6736c2",
   "metadata": {},
   "outputs": [
    {
     "ename": "FileNotFoundError",
     "evalue": "[Errno 2] No such file or directory: 'C:/extincao-qpd/logs_good/tests/1675110905.data'",
     "output_type": "error",
     "traceback": [
      "\u001b[1;31m---------------------------------------------------------------------------\u001b[0m",
      "\u001b[1;31mFileNotFoundError\u001b[0m                         Traceback (most recent call last)",
      "\u001b[1;32m~\\AppData\\Local\\Temp\\ipykernel_19412\\3458940189.py\u001b[0m in \u001b[0;36m<module>\u001b[1;34m\u001b[0m\n\u001b[0;32m      2\u001b[0m \u001b[0mpaths_dict\u001b[0m \u001b[1;33m=\u001b[0m \u001b[0mdict\u001b[0m\u001b[1;33m(\u001b[0m\u001b[1;33m)\u001b[0m\u001b[1;33m\u001b[0m\u001b[1;33m\u001b[0m\u001b[0m\n\u001b[0;32m      3\u001b[0m \u001b[1;32mfor\u001b[0m \u001b[0mpath\u001b[0m \u001b[1;32min\u001b[0m \u001b[0mselected_paths\u001b[0m\u001b[1;33m:\u001b[0m\u001b[1;33m\u001b[0m\u001b[1;33m\u001b[0m\u001b[0m\n\u001b[1;32m----> 4\u001b[1;33m         \u001b[0mpaths_dict\u001b[0m\u001b[1;33m[\u001b[0m\u001b[0mpath\u001b[0m\u001b[1;33m]\u001b[0m\u001b[1;33m,\u001b[0m \u001b[0mload_errors\u001b[0m \u001b[1;33m=\u001b[0m \u001b[0manalyse_all_in_path\u001b[0m\u001b[1;33m(\u001b[0m\u001b[0mpath\u001b[0m\u001b[1;33m)\u001b[0m\u001b[1;33m\u001b[0m\u001b[1;33m\u001b[0m\u001b[0m\n\u001b[0m\u001b[0;32m      5\u001b[0m         \u001b[0merrors\u001b[0m\u001b[1;33m.\u001b[0m\u001b[0mextend\u001b[0m\u001b[1;33m(\u001b[0m\u001b[0mload_errors\u001b[0m\u001b[1;33m)\u001b[0m\u001b[1;33m\u001b[0m\u001b[1;33m\u001b[0m\u001b[0m\n\u001b[0;32m      6\u001b[0m         \u001b[1;32mif\u001b[0m \u001b[0mTEST\u001b[0m \u001b[1;33m==\u001b[0m \u001b[1;32mTrue\u001b[0m\u001b[1;33m:\u001b[0m\u001b[1;33m\u001b[0m\u001b[1;33m\u001b[0m\u001b[0m\n",
      "\u001b[1;32m~\\AppData\\Local\\Temp\\ipykernel_19412\\2537272110.py\u001b[0m in \u001b[0;36manalyse_all_in_path\u001b[1;34m(path)\u001b[0m\n\u001b[0;32m     19\u001b[0m         \u001b[0min_path_df_dict\u001b[0m \u001b[1;33m=\u001b[0m \u001b[0mdict\u001b[0m\u001b[1;33m(\u001b[0m\u001b[1;33m)\u001b[0m\u001b[1;33m\u001b[0m\u001b[1;33m\u001b[0m\u001b[0m\n\u001b[0;32m     20\u001b[0m         \u001b[0mselected_runs\u001b[0m \u001b[1;33m=\u001b[0m \u001b[0mget_availiable_runs\u001b[0m\u001b[1;33m(\u001b[0m\u001b[0mos\u001b[0m\u001b[1;33m.\u001b[0m\u001b[0mlistdir\u001b[0m\u001b[1;33m(\u001b[0m\u001b[0mpath\u001b[0m\u001b[1;33m)\u001b[0m\u001b[1;33m)\u001b[0m\u001b[1;33m\u001b[0m\u001b[1;33m\u001b[0m\u001b[0m\n\u001b[1;32m---> 21\u001b[1;33m         \u001b[0mprepare_data_fixed\u001b[0m\u001b[1;33m(\u001b[0m\u001b[0mpath\u001b[0m\u001b[1;33m,\u001b[0m \u001b[0mselected_runs\u001b[0m\u001b[1;33m)\u001b[0m\u001b[1;33m\u001b[0m\u001b[1;33m\u001b[0m\u001b[0m\n\u001b[0m\u001b[0;32m     22\u001b[0m         \u001b[0merrors\u001b[0m \u001b[1;33m=\u001b[0m \u001b[0mlist\u001b[0m\u001b[1;33m(\u001b[0m\u001b[1;33m)\u001b[0m\u001b[1;33m\u001b[0m\u001b[1;33m\u001b[0m\u001b[0m\n\u001b[0;32m     23\u001b[0m \u001b[1;33m\u001b[0m\u001b[0m\n",
      "\u001b[1;32m~\\AppData\\Local\\Temp\\ipykernel_19412\\2537272110.py\u001b[0m in \u001b[0;36mprepare_data_fixed\u001b[1;34m(path, selected_runs)\u001b[0m\n\u001b[0;32m      6\u001b[0m                                 \u001b[1;31m#join data if necessary\u001b[0m\u001b[1;33m\u001b[0m\u001b[1;33m\u001b[0m\u001b[1;33m\u001b[0m\u001b[0m\n\u001b[0;32m      7\u001b[0m                                 \u001b[0mtools\u001b[0m\u001b[1;33m.\u001b[0m\u001b[0mjoin_data\u001b[0m\u001b[1;33m(\u001b[0m\u001b[0mthis_path\u001b[0m\u001b[1;33m)\u001b[0m\u001b[1;33m\u001b[0m\u001b[1;33m\u001b[0m\u001b[0m\n\u001b[1;32m----> 8\u001b[1;33m                         \u001b[0mtools\u001b[0m\u001b[1;33m.\u001b[0m\u001b[0mquote_gene\u001b[0m\u001b[1;33m(\u001b[0m\u001b[0mthis_path\u001b[0m\u001b[1;33m)\u001b[0m\u001b[1;33m\u001b[0m\u001b[1;33m\u001b[0m\u001b[0m\n\u001b[0m\u001b[0;32m      9\u001b[0m \u001b[1;33m\u001b[0m\u001b[0m\n\u001b[0;32m     10\u001b[0m \u001b[1;32mdef\u001b[0m \u001b[0mget_availiable_runs\u001b[0m\u001b[1;33m(\u001b[0m\u001b[0mfilenames_list\u001b[0m\u001b[1;33m)\u001b[0m\u001b[1;33m:\u001b[0m\u001b[1;33m\u001b[0m\u001b[1;33m\u001b[0m\u001b[0m\n",
      "\u001b[1;32mc:\\extincao-qpd\\data_analysis\\data_analysis_tools.py\u001b[0m in \u001b[0;36mquote_gene\u001b[1;34m(path)\u001b[0m\n\u001b[0;32m     39\u001b[0m \u001b[1;33m\u001b[0m\u001b[0m\n\u001b[0;32m     40\u001b[0m \u001b[1;32mdef\u001b[0m \u001b[0mquote_gene\u001b[0m\u001b[1;33m(\u001b[0m\u001b[0mpath\u001b[0m\u001b[1;33m)\u001b[0m\u001b[1;33m:\u001b[0m\u001b[1;33m\u001b[0m\u001b[1;33m\u001b[0m\u001b[0m\n\u001b[1;32m---> 41\u001b[1;33m         \u001b[1;32mwith\u001b[0m \u001b[0mopen\u001b[0m\u001b[1;33m(\u001b[0m\u001b[0mpath\u001b[0m\u001b[1;33m,\u001b[0m \u001b[1;34m'r'\u001b[0m\u001b[1;33m)\u001b[0m \u001b[1;32mas\u001b[0m \u001b[0minfile\u001b[0m\u001b[1;33m:\u001b[0m\u001b[1;33m\u001b[0m\u001b[1;33m\u001b[0m\u001b[0m\n\u001b[0m\u001b[0;32m     42\u001b[0m                 \u001b[1;32mwith\u001b[0m \u001b[0mopen\u001b[0m\u001b[1;33m(\u001b[0m\u001b[0mpath\u001b[0m \u001b[1;33m+\u001b[0m \u001b[1;34m\"_fixed\"\u001b[0m\u001b[1;33m,\u001b[0m \u001b[1;34m'w'\u001b[0m\u001b[1;33m)\u001b[0m \u001b[1;32mas\u001b[0m \u001b[0moutfile\u001b[0m\u001b[1;33m:\u001b[0m\u001b[1;33m\u001b[0m\u001b[1;33m\u001b[0m\u001b[0m\n\u001b[0;32m     43\u001b[0m                         \u001b[1;32mfor\u001b[0m \u001b[0mline\u001b[0m \u001b[1;32min\u001b[0m \u001b[0minfile\u001b[0m\u001b[1;33m:\u001b[0m\u001b[1;33m\u001b[0m\u001b[1;33m\u001b[0m\u001b[0m\n",
      "\u001b[1;31mFileNotFoundError\u001b[0m: [Errno 2] No such file or directory: 'C:/extincao-qpd/logs_good/tests/1675110905.data'"
     ]
    }
   ],
   "source": [
    "errors = list()\n",
    "paths_dict = dict()\n",
    "for path in selected_paths:\n",
    "\tpaths_dict[path], load_errors = analyse_all_in_path(path)\n",
    "\terrors.extend(load_errors)\n",
    "\tif TEST == True:\n",
    "\t\tbreak\n",
    "\n",
    "# run count\n",
    "run_count = 0\n",
    "for index, path_dict in paths_dict.items():\n",
    "\tfor _, run_dict in path_dict.items():\n",
    "\t\trun_count = run_count + 1\n",
    "\t\terrors.extend(tools.generate_run_report_from_dict(run_dict))\n",
    "\n",
    "print(\"Path count: \", len(paths_dict.keys()))\n",
    "print(\"Run count: \", run_count)\n",
    "print(\"Errors:\\n\" + str(errors))"
   ]
  },
  {
   "cell_type": "code",
   "execution_count": null,
   "id": "82bebaa3",
   "metadata": {},
   "outputs": [],
   "source": []
  }
 ],
 "metadata": {
  "kernelspec": {
   "display_name": "cemeai37",
   "language": "python",
   "name": "python3"
  },
  "language_info": {
   "codemirror_mode": {
    "name": "ipython",
    "version": 3
   },
   "file_extension": ".py",
   "mimetype": "text/x-python",
   "name": "python",
   "nbconvert_exporter": "python",
   "pygments_lexer": "ipython3",
   "version": "3.7.13"
  },
  "vscode": {
   "interpreter": {
    "hash": "8886e52fbead591362cecb2102a8bc82dfd8ab95b407e70b4b6ae82aa4c1c4f1"
   }
  }
 },
 "nbformat": 4,
 "nbformat_minor": 5
}
