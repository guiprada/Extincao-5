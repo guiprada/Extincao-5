{
 "cells": [
  {
   "cell_type": "code",
   "execution_count": null,
   "id": "98138054",
   "metadata": {},
   "outputs": [],
   "source": [
    "import os\n",
    "import pandas as pd\n",
    "import matplotlib.pyplot as plt\n",
    "import seaborn as sns\n",
    "import numpy as np\n",
    "import data_analysis_tools_battery_3 as tools\n",
    "import re\n",
    "import random"
   ]
  },
  {
   "attachments": {},
   "cell_type": "markdown",
   "id": "c97552cb",
   "metadata": {},
   "source": [
    "## Config"
   ]
  },
  {
   "cell_type": "code",
   "execution_count": null,
   "id": "7fee72c2",
   "metadata": {},
   "outputs": [],
   "source": [
    "OVERRIDE_OLD_FIXED = False\n",
    "TEST = False\n",
    "\n",
    "GENERATE_REPORTS = True\n",
    "SHOW_REPORTS = True\n",
    "CUT_RESULTS_TO = None\n",
    "DISABLE_NEW_REPORT = False\n",
    "INTERVALAR_PLOT = True"
   ]
  },
  {
   "cell_type": "code",
   "execution_count": null,
   "id": "2e65f5fe",
   "metadata": {},
   "outputs": [],
   "source": [
    "base_path = f\"{os.getcwd()}/../reports/\"\n",
    "\n",
    "tests = [\n",
    "\t# f\"{base_path}tests/\",\n",
    "\t# f\"{base_path}tests/NEAT/speciation/\",\n",
    "\t# f\"{base_path}tests/NEAT/history_size_100/NB4/\",\n",
    "\t# f\"{base_path}tests/NEAT/history_size_100/B1/\",\n",
    "\t# f\"{base_path}tests/NEAT/history_size_100/NB4-path-grading/\",\n",
    "\t# f\"{base_path}tests/NEAT/speciation/saved_logs/no_speciation\",\n",
    "\t# f\"{base_path}tests/NEAT/speciation/saved_logs/speciated\",\n",
    "\t# f\"{base_path}tests/NEAT/battery_3/take_1/mov/\",\n",
    "\t# f\"{base_path}tests/NEAT/battery_3/take_1/updates/\",\n",
    "\t# f\"{base_path}tests/NEAT/battery_3/_movement_captures/\",\n",
    "]\n",
    "\n",
    "battery_1 = [\n",
    "\t# f\"{base_path}battery_1/\",\n",
    "\t### f\"{base_path}battery_1_baseline_take_2/\",\n",
    "\t# f\"{base_path}battery_1_baseline_take_2_new_reports/\"\n",
    "]\n",
    "\n",
    "battery_2 = [\n",
    "\t# f\"{base_path}battery_2/B1/\",\n",
    "\t# f\"{base_path}battery_2/B1-path-grading-hack/\",\n",
    "\t# f\"{base_path}battery_2/B1-path-grading-simple/\",\n",
    "\t# f\"{base_path}battery_2/B2/\",\n",
    "\t# f\"{base_path}battery_2/B3/\",\n",
    "\t# f\"{base_path}battery_2/NB4/\",\n",
    "\t# f\"{base_path}battery_2/NB4-path-grading/\",\n",
    "]\n",
    "\n",
    "battery_3= [\n",
    "\t# f\"{base_path}battery_3_config_baseline/\",\n",
    "\t# f\"{base_path}battery_3/tests/\",\n",
    "\t# f\"{base_path}battery_3/take_1/\",\n",
    "\t# f\"{base_path}battery_3/take_1_neat/\",\n",
    "\tf\"{base_path}battery_3/take_2_neat/\",\n",
    "\t# f\"{base_path}battery_3/take_3_neat/\",\n",
    "]\n",
    "\n",
    "selected_paths = battery_1 + battery_2 + battery_3 +  tests"
   ]
  },
  {
   "cell_type": "code",
   "execution_count": null,
   "id": "068127c6",
   "metadata": {},
   "outputs": [],
   "source": [
    "def prepare_data_fixed(path, selected_runs):\n",
    "\tfor selected_run in selected_runs:\n",
    "\t\tthis_path = f\"{path}{selected_run}.data\"\n",
    "\t\tif not os.path.exists(this_path + \"_fixed\") or OVERRIDE_OLD_FIXED:\n",
    "\t\t\tif not os.path.exists(this_path) or OVERRIDE_OLD_FIXED:\n",
    "\t\t\t\t#join data if necessary\n",
    "\t\t\t\ttools.join_data(this_path)\n",
    "\t\t\ttools.quote_gene(this_path)\n",
    "\n",
    "def get_availiable_runs(filenames_list):\n",
    "\tselected_runs_set = set()\n",
    "\tfor filename in filenames_list:\n",
    "\t\tfound = re.findall(\"[0-9]+\", filename)\n",
    "\t\tif len(found) > 0:\n",
    "\t\t\tselected_runs_set.add(found[0])\n",
    "\treturn list(selected_runs_set)\n",
    "\n",
    "def process_all_in_path(path):\n",
    "\tin_path_df_dict = dict()\n",
    "\tselected_runs = get_availiable_runs(os.listdir(path))\n",
    "\tprepare_data_fixed(path, selected_runs)\n",
    "\terrors = list()\n",
    "\n",
    "\tfor run in selected_runs:\n",
    "\t\tprint(path, run)\n",
    "\t\trun_dict = dict()\n",
    "\t\trun_dict[\"run_id\"] = run\n",
    "\t\trun_dict[\"path\"] = path\n",
    "\t\twith open(f\"{path}{run}.conf\", 'r') as f:\n",
    "\t\t\tfor line in f.readlines():\n",
    "\t\t\t\tif tools.ANN_MODE_STRING in line:\n",
    "\t\t\t\t\tthis_mode = line.replace(tools.ANN_MODE_STRING, \"\")\n",
    "\t\t\t\t\trun_dict[\"mode\"] = this_mode\n",
    "\t\t\t\telif tools.ANN_LAYERS_STRING in line:\n",
    "\t\t\t\t\tthis_layers = line.replace(tools.ANN_LAYERS_STRING, \"\")\n",
    "\t\t\t\t\trun_dict[\"layers\"] = this_layers\n",
    "\t\t\t\telif tools.ANN_FITNESS_STRING in line:\n",
    "\t\t\t\t\tthis_fitness = line.replace(tools.ANN_FITNESS_STRING, \"\")\n",
    "\t\t\t\t\trun_dict[\"fitness\"] = this_fitness\n",
    "\t\t\t\telif tools.ANN_NEAT_ENABLED_STRING in line:\n",
    "\t\t\t\t\tthis_neat_enable = line.replace(tools.ANN_NEAT_ENABLED_STRING, \"\").strip()\n",
    "\t\t\t\t\tif this_neat_enable.lower() == \"true\":\n",
    "\t\t\t\t\t\trun_dict[\"neat_enabled\"] = True\n",
    "\t\t\t\t\telse:\n",
    "\t\t\t\t\t\trun_dict[\"neat_enabled\"] = False\n",
    "\n",
    "\t\trun_dict[\"df\"], load_errors = tools.load_dataframe(path, run, neat_enabled = run_dict[\"neat_enabled\"])\n",
    "\t\tin_path_df_dict[run] = run_dict\n",
    "\t\terrors.extend(load_errors)\n",
    "\t\tif TEST == True:\n",
    "\t\t\treturn in_path_df_dict, errors\n",
    "\n",
    "\treturn in_path_df_dict, errors\n"
   ]
  },
  {
   "attachments": {},
   "cell_type": "markdown",
   "id": "7c9ee925",
   "metadata": {},
   "source": [
    "## Do it"
   ]
  },
  {
   "cell_type": "code",
   "execution_count": null,
   "id": "8b6736c2",
   "metadata": {},
   "outputs": [],
   "source": [
    "errors = list()\n",
    "paths_dict = dict()\n",
    "for path in selected_paths:\n",
    "\tpaths_dict[path], load_errors = process_all_in_path(path)\n",
    "\terrors.extend(load_errors)\n",
    "\tif TEST == True:\n",
    "\t\tbreak\n",
    "\n",
    "# run count\n",
    "run_count = 0\n",
    "for index, path_dict in paths_dict.items():\n",
    "\tfor _, run_dict in path_dict.items():\n",
    "\t\trun_count = run_count + 1\n",
    "\t\tif GENERATE_REPORTS:\n",
    "\t\t\terrors.extend(tools.generate_run_report_from_dict(run_dict, show = SHOW_REPORTS, CUT_RESULTS_TO = CUT_RESULTS_TO, disable_new_report = DISABLE_NEW_REPORT, intervalar_plot = INTERVALAR_PLOT))\n",
    "\n",
    "print(\"Path count: \", len(paths_dict.keys()))\n",
    "print(\"Run count: \", run_count)\n",
    "print(\"Errors:\\n\" + str(errors))"
   ]
  },
  {
   "cell_type": "code",
   "execution_count": null,
   "id": "82bebaa3",
   "metadata": {},
   "outputs": [],
   "source": []
  }
 ],
 "metadata": {
  "kernelspec": {
   "display_name": "cemeai37",
   "language": "python",
   "name": "python3"
  },
  "language_info": {
   "codemirror_mode": {
    "name": "ipython",
    "version": 3
   },
   "file_extension": ".py",
   "mimetype": "text/x-python",
   "name": "python",
   "nbconvert_exporter": "python",
   "pygments_lexer": "ipython3",
   "version": "3.7.13"
  },
  "vscode": {
   "interpreter": {
    "hash": "8886e52fbead591362cecb2102a8bc82dfd8ab95b407e70b4b6ae82aa4c1c4f1"
   }
  }
 },
 "nbformat": 4,
 "nbformat_minor": 5
}
