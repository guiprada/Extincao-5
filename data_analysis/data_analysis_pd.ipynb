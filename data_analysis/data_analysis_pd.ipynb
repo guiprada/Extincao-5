{
 "cells": [
  {
   "cell_type": "code",
   "execution_count": null,
   "id": "98138054",
   "metadata": {},
   "outputs": [],
   "source": [
    "import os\n",
    "import pandas as pd\n",
    "import matplotlib.pyplot as plt\n",
    "import seaborn as sns\n",
    "import numpy as np\n",
    "import data_analysis_tools as tools\n",
    "import re\n",
    "import random"
   ]
  },
  {
   "attachments": {},
   "cell_type": "markdown",
   "id": "c97552cb",
   "metadata": {},
   "source": [
    "## BASELINE"
   ]
  },
  {
   "cell_type": "code",
   "execution_count": null,
   "id": "7fee72c2",
   "metadata": {},
   "outputs": [],
   "source": [
    "OVERRIDE_OLD_FIXED = False\n",
    "TEST = False"
   ]
  },
  {
   "cell_type": "code",
   "execution_count": null,
   "id": "2e65f5fe",
   "metadata": {},
   "outputs": [],
   "source": [
    "\n",
    "base_path = f\"{os.getcwd()}/../reports/\"\n",
    "baseline_paths = [\n",
    "\tf\"{base_path}battery_1/\",\n",
    "]\n",
    "\n",
    "neuroevolution_paths = [\n",
    "\tf\"{base_path}battery_2/B1/\",\n",
    "\tf\"{base_path}battery_2/B1-path-grading-hack/\",\n",
    "\tf\"{base_path}battery_2/B1-path-grading-simple/\",\n",
    "\tf\"{base_path}battery_2/B2/\",\n",
    "\tf\"{base_path}battery_2/B3/\",\n",
    "\tf\"{base_path}battery_2/NB4/\",\n",
    "\tf\"{base_path}battery_2/NB4-path-grading/\",\n",
    "\n",
    "\t# f\"{base_path}neuroevolution/battery_3_0/\",\n",
    "]\n",
    "\n",
    "neat_paths = [\n",
    "\t# f\"{base_path}NEAT/battery_3_0/\",\n",
    "]\n",
    "selected_paths = baseline_paths + neuroevolution_paths + neat_paths"
   ]
  },
  {
   "cell_type": "code",
   "execution_count": null,
   "id": "068127c6",
   "metadata": {},
   "outputs": [],
   "source": [
    "def prepare_data_fixed(path, selected_runs):\n",
    "\tfor selected_run in selected_runs:\n",
    "\t\tthis_path = f\"{path}{selected_run}.data\"\n",
    "\t\tif not os.path.exists(this_path + \"_fixed\") or OVERRIDE_OLD_FIXED:\n",
    "\t\t\tif not os.path.exists(this_path) or OVERRIDE_OLD_FIXED:\n",
    "\t\t\t\t#join data if necessary\n",
    "\t\t\t\ttools.join_data(this_path)\n",
    "\t\t\ttools.quote_gene(this_path)\n",
    "\n",
    "def get_availiable_runs(filenames_list):\n",
    "\tselected_runs_set = set()\n",
    "\tfor filename in filenames_list:\n",
    "\t\tfound = re.findall(\"[0-9]+\", filename)\n",
    "\t\tif len(found) > 0:\n",
    "\t\t\tselected_runs_set.add(found[0])\n",
    "\treturn list(selected_runs_set)\n",
    "\n",
    "def generate_run_dict(path):\n",
    "\tin_path_df_dict = dict()\n",
    "\terrors = list()\n",
    "\t\n",
    "\tfor run in get_availiable_runs(os.listdir(path)):\n",
    "\t\tthis_baseline_mode = None\n",
    "\t\tthis_ann_layers = None\n",
    "\t\tprint(path, run)\n",
    "\t\trun_dict = dict()\n",
    "\t\trun_dict[\"run_id\"] = run\n",
    "\t\trun_dict[\"path\"] = path\n",
    "\t\twith open(f\"{path}{run}.conf\", 'r') as f:\n",
    "\t\t\tfor line in f.readlines():\n",
    "\t\t\t\tif tools.ANN_MODE_STRING in line:\n",
    "\t\t\t\t\tthis_mode = line.replace(tools.ANN_MODE_STRING, \"\")\n",
    "\t\t\t\t\trun_dict[\"mode\"] = this_mode\n",
    "\t\t\t\telif tools.ANN_LAYERS_STRING in line:\n",
    "\t\t\t\t\tthis_layers = line.replace(tools.ANN_LAYERS_STRING, \"\")\n",
    "\t\t\t\t\trun_dict[\"layers\"] = this_layers\n",
    "\n",
    "\t\trun_dict[\"df\"], load_errors = tools.load_dataframe(path, run)\n",
    "\t\tin_path_df_dict[run] = run_dict\n",
    "\t\terrors.extend(load_errors)\n",
    "\t\tif TEST == True:\n",
    "\t\t\treturn in_path_df_dict, errors\n",
    "\treturn in_path_df_dict, errors\n"
   ]
  },
  {
   "attachments": {},
   "cell_type": "markdown",
   "id": "7c9ee925",
   "metadata": {},
   "source": [
    "## Do it"
   ]
  },
  {
   "cell_type": "code",
   "execution_count": null,
   "id": "8b6736c2",
   "metadata": {},
   "outputs": [],
   "source": [
    "errors = list()\n",
    "run_dict_dict = dict()\n",
    "for path in selected_paths:\n",
    "\trun_dict_dict[path], load_errors = generate_run_dict(path)\n",
    "\terrors.extend(load_errors)\n",
    "\tif TEST == True:\n",
    "\t\tbreak\n",
    "\n",
    "# run count\n",
    "run_count = 0\n",
    "for index, path_dict in run_dict_dict.items():\n",
    "\tfor _, run_dict in path_dict.items():\n",
    "\t\trun_count = run_count + 1\n",
    "\t\terrors.extend(tools.generate_run_report_from_dict(run_dict))\n",
    "\n",
    "print(\"Path count: \", len(run_dict_dict.keys()))\n",
    "print(\"Run count: \", run_count)\n",
    "print(\"Errors:\\n\" + str(errors))"
   ]
  },
  {
   "cell_type": "code",
   "execution_count": null,
   "id": "82bebaa3",
   "metadata": {},
   "outputs": [],
   "source": []
  }
 ],
 "metadata": {
  "kernelspec": {
   "display_name": "cemeai37",
   "language": "python",
   "name": "python3"
  },
  "language_info": {
   "codemirror_mode": {
    "name": "ipython",
    "version": 3
   },
   "file_extension": ".py",
   "mimetype": "text/x-python",
   "name": "python",
   "nbconvert_exporter": "python",
   "pygments_lexer": "ipython3",
   "version": "3.7.13"
  },
  "vscode": {
   "interpreter": {
    "hash": "8886e52fbead591362cecb2102a8bc82dfd8ab95b407e70b4b6ae82aa4c1c4f1"
   }
  }
 },
 "nbformat": 4,
 "nbformat_minor": 5
}
